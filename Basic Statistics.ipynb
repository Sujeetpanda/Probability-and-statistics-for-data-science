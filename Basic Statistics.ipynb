{
 "cells": [
  {
   "cell_type": "code",
   "execution_count": 77,
   "metadata": {
    "collapsed": true
   },
   "outputs": [],
   "source": [
    "import numpy as np\n",
    "#using stats to find the frequency\n",
    "from scipy.stats import itemfreq\n",
    "import pandas as pd\n",
    "import matplotlib.pyplot as plt\n",
    "%matplotlib inline"
   ]
  },
  {
   "cell_type": "code",
   "execution_count": 78,
   "metadata": {
    "collapsed": true
   },
   "outputs": [],
   "source": [
    "#Generating random numbers\n",
    "randNumbers = np.random.randint(1,150,500)"
   ]
  },
  {
   "cell_type": "code",
   "execution_count": 79,
   "metadata": {},
   "outputs": [
    {
     "data": {
      "text/plain": [
       "array([103, 103,  44,  47,  84,  94,  61,  64, 145,  88, 112,  66,  32,\n",
       "       106, 131,  42,  14, 135,   9,  17, 139,  53,  52,  41,  25, 107,\n",
       "        74, 121,  56,   1, 138,  96, 104,  74,  35,   7,  60,  10,  89,\n",
       "       103, 109,  96,  48,   4,  27,  30, 120,  54,   7,  33,  15, 112,\n",
       "         6,  80,  95,  12,  77,  62,  54, 106, 115,  24, 116,  93, 119,\n",
       "       126,  28,  26, 116,  82,  35,  37, 112, 122,  72,  84, 136,  57,\n",
       "        72,  72,  18,  33, 129,  86,  36, 133,  66, 137,  23, 119,  65,\n",
       "       109,  47,  43, 122,  34,  52, 111,  60,  15, 101,  23,  63,  87,\n",
       "        72,  48, 108,  51,  84, 122,  43,  22, 132,   9,   2, 122, 121,\n",
       "       102,  44, 106, 146,  52, 135,  14,   6, 138,  70,  88, 120, 119,\n",
       "        74, 133,  79,  67,  40,  91,  28, 130,  97,   5,  98,  75, 112,\n",
       "       130,  69,  51,  61,  53,  79,  86, 140,  54, 106,  66,  71,   9,\n",
       "        29, 114, 149, 149,  97, 139, 131,  82,  95, 145, 115, 141,  68,\n",
       "       146,  78,  13,  63, 149,  99, 114,  65,  86, 127,  22,  29,  31,\n",
       "       147,  82,  96,  60,  94,  62,  85,  95,  67,  80,  54,  50, 105,\n",
       "       142,  12, 122,  56, 101,  37,  16,  59, 141,  25,  12,  40,   1,\n",
       "        31,  89,  73,   8,  22,  88,  23, 119, 108,  56,  18,  59,  53,\n",
       "        57,  35,  59,  36,  81,  89,  39, 111,  89, 114,  94,  73,  23,\n",
       "        78,  82, 103,  46,   3,  72,  72,   7,  43,   3,  12,  54, 105,\n",
       "       100, 131, 129,  99,  93, 116,  27,  31, 131,  38, 128,  25, 142,\n",
       "        43,  19, 118,  50,  64,  65, 130, 146,  56,  27,  31,  26,  66,\n",
       "        61,  70,  59, 120, 127,  52, 138, 128,  87, 140,  14,  46,  58,\n",
       "        98,  65,  43, 138, 126, 132,  18,  59,  14,  60,  52,  66,  58,\n",
       "       115,  82,  11,  56,   8, 106, 105, 139, 146, 102,  38, 114,  93,\n",
       "        84,  10,  96, 123,  22,  43,   1, 147, 104, 146,  66,   8,  70,\n",
       "        77, 120,  65,  31,  83, 133,  90,  84,  19,  91, 122,  42,  24,\n",
       "        38,  54, 122,   2, 134, 112,  22, 108, 137,  18,  84, 136,  29,\n",
       "        17,  63, 125,  35,  88, 105,  49,  72, 139, 130,  34,  31,  45,\n",
       "        71,  17,  46, 114,  47, 125, 107, 121, 144,  11,  23, 118,  11,\n",
       "       112,  14,  54,  33,  86,  79,  57,  58,  89,  59,  60,  90,  11,\n",
       "       108, 121,  44,  27,  49,  25, 127,  99, 107,  18,  21,  94, 131,\n",
       "         2,  28,  51,  80,  57, 135, 100, 103,  77, 105, 126, 123,  71,\n",
       "        66,   6, 119,  60, 112, 108, 114, 105,  42, 111,  73, 145,   2,\n",
       "         6,  25, 149,  33,  91, 105,  75, 124, 112,  85,  36,   3, 147,\n",
       "       139,  71,  88,  29,  31,  16, 119,  93,  46,  30,  98, 136,  50,\n",
       "        78, 123, 116,  27,  43,  41, 114,   4,  37,  61,  32,  30, 143,\n",
       "        34,  79,  14,  40, 109, 116, 133,  10, 119,  64,  17,  74, 132,\n",
       "        32, 115, 129, 106, 105,  23,  50,  20,  32,  22,  88, 142,  67,\n",
       "        99, 119, 114,  71,  84, 149])"
      ]
     },
     "execution_count": 79,
     "metadata": {},
     "output_type": "execute_result"
    }
   ],
   "source": [
    "randNumbers"
   ]
  },
  {
   "cell_type": "code",
   "execution_count": 80,
   "metadata": {},
   "outputs": [
    {
     "name": "stdout",
     "output_type": "stream",
     "text": [
      "The i 0 th percentile is : 1.0\n",
      "The i 10 th percentile is : 17.0\n",
      "The i 20 th percentile is : 31.0\n",
      "The i 30 th percentile is : 46.0\n",
      "The i 40 th percentile is : 60.0\n",
      "The i 50 th percentile is : 73.0\n",
      "The i 60 th percentile is : 89.0\n",
      "The i 70 th percentile is : 105.0\n",
      "The i 80 th percentile is : 118.0\n",
      "The i 90 th percentile is : 131.1\n"
     ]
    }
   ],
   "source": [
    "#Sort the numbers before finding percentile\n",
    "#percentile should be less than 100% otherwise there is no point in finding them\n",
    "# formula for percentile = #percentile Needed\n",
    "#                           ------------------- X (n + 1)\n",
    "#                                 100\n",
    "\n",
    "#Percentile Rank of x = #of values below x\n",
    "#                        ------------------- X 100\n",
    "#                                n\n",
    "\n",
    "\n",
    "randNumbers.sort()\n",
    "for i in range(0,randNumbers.size,10):\n",
    "    if i < 100:\n",
    "        p = np.percentile(randNumbers,i)\n",
    "        print (\"The i\",i,\"th percentile is :\",p)\n"
   ]
  },
  {
   "cell_type": "code",
   "execution_count": 81,
   "metadata": {},
   "outputs": [
    {
     "data": {
      "text/plain": [
       "73.0"
      ]
     },
     "execution_count": 81,
     "metadata": {},
     "output_type": "execute_result"
    }
   ],
   "source": [
    "#the 50th percentile is Median\n",
    "median = np.percentile(randNumbers,50)\n",
    "median"
   ]
  },
  {
   "cell_type": "code",
   "execution_count": 82,
   "metadata": {},
   "outputs": [
    {
     "data": {
      "text/plain": [
       "ModeResult(mode=array([105]), count=array([8]))"
      ]
     },
     "execution_count": 82,
     "metadata": {},
     "output_type": "execute_result"
    }
   ],
   "source": [
    "m = stats.mode(randNumbers)\n",
    "m"
   ]
  },
  {
   "cell_type": "code",
   "execution_count": 83,
   "metadata": {},
   "outputs": [
    {
     "data": {
      "text/plain": [
       "array([[  1,   3],\n",
       "       [  2,   4],\n",
       "       [  3,   3],\n",
       "       [  4,   2],\n",
       "       [  5,   1],\n",
       "       [  6,   4],\n",
       "       [  7,   3],\n",
       "       [  8,   3],\n",
       "       [  9,   3],\n",
       "       [ 10,   3],\n",
       "       [ 11,   4],\n",
       "       [ 12,   4],\n",
       "       [ 13,   1],\n",
       "       [ 14,   6],\n",
       "       [ 15,   2],\n",
       "       [ 16,   2],\n",
       "       [ 17,   4],\n",
       "       [ 18,   5],\n",
       "       [ 19,   2],\n",
       "       [ 20,   1],\n",
       "       [ 21,   1],\n",
       "       [ 22,   6],\n",
       "       [ 23,   6],\n",
       "       [ 24,   2],\n",
       "       [ 25,   5],\n",
       "       [ 26,   2],\n",
       "       [ 27,   5],\n",
       "       [ 28,   3],\n",
       "       [ 29,   4],\n",
       "       [ 30,   3],\n",
       "       [ 31,   7],\n",
       "       [ 32,   4],\n",
       "       [ 33,   4],\n",
       "       [ 34,   3],\n",
       "       [ 35,   4],\n",
       "       [ 36,   3],\n",
       "       [ 37,   3],\n",
       "       [ 38,   3],\n",
       "       [ 39,   1],\n",
       "       [ 40,   3],\n",
       "       [ 41,   2],\n",
       "       [ 42,   3],\n",
       "       [ 43,   7],\n",
       "       [ 44,   3],\n",
       "       [ 45,   1],\n",
       "       [ 46,   4],\n",
       "       [ 47,   3],\n",
       "       [ 48,   2],\n",
       "       [ 49,   2],\n",
       "       [ 50,   4],\n",
       "       [ 51,   3],\n",
       "       [ 52,   5],\n",
       "       [ 53,   3],\n",
       "       [ 54,   7],\n",
       "       [ 56,   5],\n",
       "       [ 57,   4],\n",
       "       [ 58,   3],\n",
       "       [ 59,   6],\n",
       "       [ 60,   6],\n",
       "       [ 61,   4],\n",
       "       [ 62,   2],\n",
       "       [ 63,   3],\n",
       "       [ 64,   3],\n",
       "       [ 65,   5],\n",
       "       [ 66,   7],\n",
       "       [ 67,   3],\n",
       "       [ 68,   1],\n",
       "       [ 69,   1],\n",
       "       [ 70,   3],\n",
       "       [ 71,   5],\n",
       "       [ 72,   7],\n",
       "       [ 73,   3],\n",
       "       [ 74,   4],\n",
       "       [ 75,   2],\n",
       "       [ 77,   3],\n",
       "       [ 78,   3],\n",
       "       [ 79,   4],\n",
       "       [ 80,   3],\n",
       "       [ 81,   1],\n",
       "       [ 82,   5],\n",
       "       [ 83,   1],\n",
       "       [ 84,   7],\n",
       "       [ 85,   2],\n",
       "       [ 86,   4],\n",
       "       [ 87,   2],\n",
       "       [ 88,   6],\n",
       "       [ 89,   5],\n",
       "       [ 90,   2],\n",
       "       [ 91,   3],\n",
       "       [ 93,   4],\n",
       "       [ 94,   4],\n",
       "       [ 95,   3],\n",
       "       [ 96,   4],\n",
       "       [ 97,   2],\n",
       "       [ 98,   3],\n",
       "       [ 99,   4],\n",
       "       [100,   2],\n",
       "       [101,   2],\n",
       "       [102,   2],\n",
       "       [103,   5],\n",
       "       [104,   2],\n",
       "       [105,   8],\n",
       "       [106,   6],\n",
       "       [107,   3],\n",
       "       [108,   5],\n",
       "       [109,   3],\n",
       "       [111,   3],\n",
       "       [112,   8],\n",
       "       [114,   8],\n",
       "       [115,   4],\n",
       "       [116,   5],\n",
       "       [118,   2],\n",
       "       [119,   8],\n",
       "       [120,   4],\n",
       "       [121,   4],\n",
       "       [122,   7],\n",
       "       [123,   3],\n",
       "       [124,   1],\n",
       "       [125,   2],\n",
       "       [126,   3],\n",
       "       [127,   3],\n",
       "       [128,   2],\n",
       "       [129,   3],\n",
       "       [130,   4],\n",
       "       [131,   5],\n",
       "       [132,   3],\n",
       "       [133,   4],\n",
       "       [134,   1],\n",
       "       [135,   3],\n",
       "       [136,   3],\n",
       "       [137,   2],\n",
       "       [138,   4],\n",
       "       [139,   5],\n",
       "       [140,   2],\n",
       "       [141,   2],\n",
       "       [142,   3],\n",
       "       [143,   1],\n",
       "       [144,   1],\n",
       "       [145,   3],\n",
       "       [146,   5],\n",
       "       [147,   3],\n",
       "       [149,   5]], dtype=int64)"
      ]
     },
     "execution_count": 83,
     "metadata": {},
     "output_type": "execute_result"
    }
   ],
   "source": [
    "itemfreq(randNumbers)"
   ]
  },
  {
   "cell_type": "code",
   "execution_count": 84,
   "metadata": {},
   "outputs": [
    {
     "data": {
      "text/plain": [
       "array([[Interval(0, 10, closed='right'), 29],\n",
       "       [Interval(10, 20, closed='right'), 31],\n",
       "       [Interval(20, 30, closed='right'), 37],\n",
       "       [Interval(30, 40, closed='right'), 35],\n",
       "       [Interval(40, 50, closed='right'), 31],\n",
       "       [Interval(50, 60, closed='right'), 42],\n",
       "       [Interval(60, 70, closed='right'), 32],\n",
       "       [Interval(70, 80, closed='right'), 34],\n",
       "       [Interval(80, 90, closed='right'), 35],\n",
       "       [Interval(90, 100, closed='right'), 29],\n",
       "       [Interval(100, 110, closed='right'), 36],\n",
       "       [Interval(110, 120, closed='right'), 42],\n",
       "       [Interval(120, 130, closed='right'), 32],\n",
       "       [Interval(130, 140, closed='right'), 32],\n",
       "       [Interval(140, 150, closed='right'), 23]], dtype=object)"
      ]
     },
     "execution_count": 84,
     "metadata": {},
     "output_type": "execute_result"
    }
   ],
   "source": [
    "#Implementing binning. Binnig is used to reduce overfitting\n",
    "bins = [0,10,20,30,40,50,60,70,80,90,100,110,120,130,140,150]\n",
    "binnedarray = pd.cut(randNumbers,bins,labels=None)\n",
    "itemfreq(binnedarray)"
   ]
  },
  {
   "cell_type": "code",
   "execution_count": 85,
   "metadata": {},
   "outputs": [
    {
     "data": {
      "image/png": "[encoded data removed]",
      "text/plain": [
       "<matplotlib.figure.Figure at 0xbbc9978>"
      ]
     },
     "metadata": {},
     "output_type": "display_data"
    }
   ],
   "source": [
    "plt.hist(randNumbers,bins=[0,10,20,30,40,50,60,70,80,90,100,110,120,130,140,150],histtype='stepfilled')\n",
    "plt.show()"
   ]
  },
  {
   "cell_type": "code",
   "execution_count": 86,
   "metadata": {},
   "outputs": [
    {
     "data": {
      "text/plain": [
       "74.513999999999996"
      ]
     },
     "execution_count": 86,
     "metadata": {},
     "output_type": "execute_result"
    }
   ],
   "source": [
    "randNumbers.mean()"
   ]
  }
 ],
 "metadata": {
  "kernelspec": {
   "display_name": "Python 3",
   "language": "python",
   "name": "python3"
  },
  "language_info": {
   "codemirror_mode": {
    "name": "ipython",
    "version": 3
   },
   "file_extension": ".py",
   "mimetype": "text/x-python",
   "name": "python",
   "nbconvert_exporter": "python",
   "pygments_lexer": "ipython3",
   "version": "3.6.1"
  }
 },
 "nbformat": 4,
 "nbformat_minor": 2
}
